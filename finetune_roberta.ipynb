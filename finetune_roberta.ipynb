{
  "cells": [
    {
      "cell_type": "code",
      "execution_count": null,
      "metadata": {
        "id": "_I7O9YBZnYsq"
      },
      "outputs": [],
      "source": [
        "import pandas as pd\n",
        "df = pd.read_csv('data/training.1600000.processed.noemoticon.csv', header=None, encoding='latin-1')\n",
        "df = df.loc[:, [0, 5]]\n",
        "df.columns = ['label', 'sentence']\n",
        "df=df.sample(frac=1, random_state=0)[:1000]\n",
        "print(df[df['label']==0].shape[0])\n",
        "df"
      ]
    },
    {
      "cell_type": "code",
      "execution_count": null,
      "metadata": {
        "id": "2dTAy4c5pcbt"
      },
      "outputs": [],
      "source": [
        "import re\n",
        "from string import punctuation\n",
        "def sentence_clean(x):\n",
        "  x = x.lower() # lower capitals\n",
        "  x = re.sub(r'@[A-Za-z0-9\\._]*', '', x) # remove @XXX\n",
        "  x = re.sub(r'[A-Za-z]+://[^\\s]*', '', x) # remove XXX://XXX\n",
        "  x = re.sub(r'[{}]+'.format(punctuation), '', x) # remove punctuation\n",
        "  x = re.sub(r':\\)', 'smile', x) # transfer :) to smile\n",
        "  x = re.sub(r':\\(', 'sad', x) # transfer :( to sad\n",
        "  x = re.sub(r' +', ' ', x)\n",
        "  return x.split() # token\n",
        "\n",
        "df['token'] = df['sentence'].apply(sentence_clean)\n",
        "df['text'] = df['token'].apply(lambda t: ' '.join(t))\n",
        "df.head()"
      ]
    },
    {
      "cell_type": "code",
      "execution_count": null,
      "metadata": {
        "id": "jaTegglAskq-"
      },
      "outputs": [],
      "source": [
        "import torch\n",
        "import numpy as np\n",
        "from tqdm import tqdm\n",
        "from torch.utils.data import DataLoader\n",
        "from transformers import AdamW, RobertaForSequenceClassification, RobertaTokenizer\n",
        "from transformers import get_linear_schedule_with_warmup\n",
        "from torch.utils.data import TensorDataset, DataLoader, RandomSampler, SequentialSampler\n",
        "import torch.nn as nn \n",
        "\n",
        "def seed(seed=1):\n",
        "  torch.cuda.manual_seed(seed)\n",
        "  torch.manual_seed(seed)\n",
        "  torch.random.manual_seed(seed)\n",
        "  np.random.seed(seed)"
      ]
    },
    {
      "cell_type": "code",
      "execution_count": null,
      "metadata": {
        "id": "LNmhdWf2xmwp"
      },
      "outputs": [],
      "source": [
        "full_text = df.text.values\n",
        "full_label = df.label.values"
      ]
    },
    {
      "cell_type": "code",
      "execution_count": null,
      "metadata": {
        "id": "APjFeu16xd7R"
      },
      "outputs": [],
      "source": [
        "div = int(0.1 * full_text.shape[0])\n",
        "p = np.random.permutation(full_text.shape[0])\n",
        "shuffled_full_text, shuffled_full_label = full_text[p], full_label[p]\n",
        "train_text, train_label = shuffled_full_text[div: ], shuffled_full_label[div: ]\n",
        "dev_text, dev_label = shuffled_full_text[: div], shuffled_full_label[: div]"
      ]
    },
    {
      "cell_type": "code",
      "execution_count": null,
      "metadata": {
        "id": "WiczE8sEzhY9"
      },
      "outputs": [],
      "source": [
        "train_labels = []\n",
        "dev_labels = []\n",
        "label_dict = {0: 0, 4: 1}\n",
        "for label in train_label:\n",
        "  train_labels.append(label_dict[label])\n",
        "\n",
        "for label in dev_label:\n",
        "  dev_labels.append(label_dict[label])"
      ]
    },
    {
      "cell_type": "code",
      "execution_count": null,
      "metadata": {
        "id": "7T6_2VWz8W_z"
      },
      "outputs": [],
      "source": [
        "device = torch.device(\"cuda\" if torch.cuda.is_available() else \"cpu\")"
      ]
    },
    {
      "cell_type": "code",
      "execution_count": null,
      "metadata": {
        "id": "74-GM7PT0JNk"
      },
      "outputs": [],
      "source": [
        "MODEL = 'roberta-large'\n",
        "cache_dir = '/projects/cache'\n",
        "\n",
        "class PModel(nn.Module):\n",
        "  def __init__(self):\n",
        "    super().__init__()\n",
        "    self.numClass = 2\n",
        "\n",
        "    self.Model = RobertaForSequenceClassification.from_pretrained(MODEL, cache_dir=cache_dir)\n",
        "\n",
        "  def forward(self, input_ids, attention_masks, token_type_ids):\n",
        "    y = self.Model(input_ids=input_ids, attention_mask=attention_masks, token_type_ids=token_type_ids).logits\n",
        "    return y\n"
      ]
    },
    {
      "cell_type": "code",
      "execution_count": null,
      "metadata": {},
      "outputs": [],
      "source": [
        "from transformers import AutoTokenizer\n",
        "tokenizer = AutoTokenizer.from_pretrained(MODEL, use_fast=True)\n",
        "def processdata(texts, labels):\n",
        "  encoded_dict = tokenizer(list(texts),\n",
        "                      max_length = 128,\n",
        "                      pad_to_max_length = True,\n",
        "                      return_attention_mask = True,\n",
        "                      padding= 'max_length',\n",
        "                      truncation= True,\n",
        "                      return_tensors = 'pt',\n",
        "                      return_token_type_ids = True,\n",
        "                  )\n",
        "  input_ids = encoded_dict['input_ids']\n",
        "  attention_masks = encoded_dict['attention_mask']\n",
        "  token_type_ids = encoded_dict['token_type_ids']\n",
        "  labels = torch.tensor(labels)\n",
        "  return input_ids, attention_masks, token_type_ids, labels\n",
        "\n",
        "train_input_ids, train_attention_masks, train_token_type_ids, train_labels = processdata(train_text, train_labels)\n",
        "dev_input_ids, dev_attention_masks, dev_token_type_ids, dev_labels = processdata(dev_text, dev_labels)"
      ]
    },
    {
      "cell_type": "code",
      "execution_count": null,
      "metadata": {
        "id": "tE-WqTkcAioB"
      },
      "outputs": [],
      "source": [
        "batch_size = 16\n",
        "\n",
        "train_dataset = TensorDataset(train_input_ids, train_attention_masks, train_token_type_ids, train_labels, torch.arange(train_labels.size(0)))\n",
        "dev_dataset = TensorDataset(dev_input_ids, dev_attention_masks, dev_token_type_ids, dev_labels, torch.arange(dev_labels.size(0)))\n",
        "\n",
        "train_loader = DataLoader(\n",
        "            train_dataset,\n",
        "            sampler = RandomSampler(train_dataset),\n",
        "            batch_size = batch_size \n",
        "        )\n",
        "\n",
        "\n",
        "dev_loader = DataLoader(\n",
        "            dev_dataset, \n",
        "            sampler = SequentialSampler(dev_dataset), \n",
        "            batch_size = batch_size\n",
        "        )"
      ]
    },
    {
      "cell_type": "code",
      "execution_count": null,
      "metadata": {},
      "outputs": [],
      "source": [
        "print(train_input_ids.shape)\n",
        "print(train_attention_masks.shape)\n",
        "print(train_token_type_ids.shape)\n",
        "print(train_labels.shape)\n",
        "\n",
        "print(len(train_loader))"
      ]
    },
    {
      "cell_type": "code",
      "execution_count": null,
      "metadata": {
        "id": "rHvnT29pwocx"
      },
      "outputs": [],
      "source": [
        "model = PModel()\n",
        "model.to(device)\n",
        "model.cuda()\n",
        "\n",
        "optimizer = AdamW(model.parameters(),\n",
        "                  lr = 2e-5, # args.learning_rate - default is 5e-5, our notebook had 2e-5\n",
        "                  eps = 1e-8 # args.adam_epsilon  - default is 1e-8.\n",
        "          )\n",
        "EPOCHS = 20\n",
        "total_steps = len(train_loader) * EPOCHS\n",
        "scheduler = get_linear_schedule_with_warmup(optimizer, \n",
        "                          num_warmup_steps = 100,\n",
        "                          num_training_steps = total_steps)\n"
      ]
    },
    {
      "cell_type": "code",
      "execution_count": null,
      "metadata": {
        "id": "6DXpzW6BD-Pp"
      },
      "outputs": [],
      "source": [
        "from tqdm import tqdm\n",
        "\n",
        "total_step = len(train_loader)\n",
        "print(train_input_ids.shape)\n",
        "print('total step: ', total_step)\n",
        "criteria = nn.CrossEntropyLoss()\n",
        "\n",
        "best_dev_loss = 100\n",
        "for epoch in range(EPOCHS):\n",
        "  model.train()\n",
        "\n",
        "  total_train_loss = 0\n",
        "  total_train_acc  = 0\n",
        "  for batch_idx, (pair_token_ids, mask_ids, seg_ids, y, _) in tqdm(enumerate(train_loader)):\n",
        "    pair_token_ids = pair_token_ids.to(device)\n",
        "    mask_ids = mask_ids.to(device)\n",
        "    seg_ids = seg_ids.to(device)\n",
        "    labels = y.to(device)\n",
        "\n",
        "    optimizer.zero_grad()\n",
        "\n",
        "    prediction = model(pair_token_ids, mask_ids, seg_ids)\n",
        "    try:\n",
        "      loss = criteria(prediction, labels)\n",
        "    except:\n",
        "      print('exception: too long a sentence, skipping the batch')\n",
        "      continue\n",
        "    \n",
        "    total_train_loss += loss.item()\n",
        "\n",
        "    loss.backward()\n",
        "\n",
        "    # Clip the norm of the gradients to 1.0.\n",
        "    # This is to help prevent the \"exploding gradients\" problem.\n",
        "    torch.nn.utils.clip_grad_norm_(model.parameters(), 1.0)\n",
        "\n",
        "    optimizer.step()\n",
        "    scheduler.step()\n",
        "\n",
        "\n",
        "  train_loss = total_train_loss/len(train_loader)\n",
        "  print('train loss: ', train_loss)\n",
        "\n",
        "  # Put the model in evaluation mode\n",
        "  model.eval()\n",
        "\n",
        "  total_dev_loss = 0\n",
        "\n",
        "  with torch.no_grad():\n",
        "    for batch_idx, (pair_token_ids, mask_ids, seg_ids, y, _) in enumerate(dev_loader):\n",
        "\n",
        "      #clear any previously calculated gradients before performing a backward pass\n",
        "      optimizer.zero_grad()\n",
        "\n",
        "      pair_token_ids = pair_token_ids.to(device)\n",
        "      mask_ids = mask_ids.to(device)\n",
        "      seg_ids = seg_ids.to(device)\n",
        "      labels = y.to(device)\n",
        "\n",
        "      prediction = model(pair_token_ids, mask_ids, seg_ids)\n",
        "      loss = criteria(prediction, labels)\n",
        "\n",
        "      total_dev_loss += loss.item()\n",
        "\n",
        "  # Calculate the average accuracy and loss over all of the batches.\n",
        "  dev_loss = total_dev_loss/len(dev_loader)\n",
        "  print('dev loss: ', dev_loss)\n",
        "  if dev_loss < best_dev_loss:\n",
        "    best_dev_loss = dev_loss\n",
        "    print('saving checkpoint')\n",
        "    torch.save(model, 'models/roberta-finetune.pth')\n",
        "  else:\n",
        "    print('skip saving checkpoint')"
      ]
    },
    {
      "cell_type": "code",
      "execution_count": null,
      "metadata": {},
      "outputs": [],
      "source": [
        "import pandas as pd\n",
        "df = pd.read_csv('data/testdata.manual.2009.06.14.csv', header=None, encoding='latin-1')\n",
        "df = df.loc[:, [0, 5]]\n",
        "df.columns = ['label', 'sentence']\n",
        "print(df[df['label']==0].shape[0])\n",
        "df"
      ]
    },
    {
      "cell_type": "code",
      "execution_count": null,
      "metadata": {},
      "outputs": [],
      "source": [
        "df['token'] = df['sentence'].apply(sentence_clean)\n",
        "df['text'] = df['token'].apply(lambda t: ' '.join(t))\n",
        "df.head()"
      ]
    },
    {
      "cell_type": "code",
      "execution_count": null,
      "metadata": {},
      "outputs": [],
      "source": [
        "test_text = df.text.values\n",
        "test_label_ = df.label.values\n",
        "\n",
        "test_labels = []\n",
        "for label in test_label_:\n",
        "  test_labels.append(label_dict[label])\n",
        "\n",
        "test_input_ids, test_attention_masks, test_token_type_ids, test_labels = processdata(test_text, test_labels)\n",
        "\n",
        "test_dataset = TensorDataset(test_input_ids, test_attention_masks, test_token_type_ids, test_labels, torch.arange(test_labels.size(0)))\n",
        "\n",
        "test_loader = DataLoader(\n",
        "            test_dataset,\n",
        "            batch_size = batch_size \n",
        "        )"
      ]
    },
    {
      "cell_type": "code",
      "execution_count": null,
      "metadata": {},
      "outputs": [],
      "source": [
        "from torchmetrics import Accuracy\n",
        "model = torch.load('models/roberta-finetune.pth')\n",
        "model.eval()\n",
        "\n",
        "test_acc = Accuracy(num_classes=2).to(device)\n",
        "with torch.no_grad():\n",
        "    for batch_idx, (pair_token_ids, mask_ids, seg_ids, y, _) in enumerate(test_loader):\n",
        "\n",
        "        #clear any previously calculated gradients before performing a backward pass\n",
        "\n",
        "        pair_token_ids = pair_token_ids.to(device)\n",
        "        mask_ids = mask_ids.to(device)\n",
        "        seg_ids = seg_ids.to(device)\n",
        "        labels = y.to(device)\n",
        "\n",
        "        prediction = model(pair_token_ids, mask_ids, seg_ids)\n",
        "        test_acc(prediction.argmax(dim=1), labels)\n",
        "\n",
        "test_acc = float(test_acc.compute())\n",
        "print('Test accuracy: %.4f' % test_acc)"
      ]
    }
  ],
  "metadata": {
    "accelerator": "GPU",
    "colab": {
      "provenance": []
    },
    "gpuClass": "standard",
    "kernelspec": {
      "display_name": "pynli",
      "language": "python",
      "name": "python3"
    },
    "language_info": {
      "codemirror_mode": {
        "name": "ipython",
        "version": 3
      },
      "file_extension": ".py",
      "mimetype": "text/x-python",
      "name": "python",
      "nbconvert_exporter": "python",
      "pygments_lexer": "ipython3",
      "version": "3.7.15"
    },
    "vscode": {
      "interpreter": {
        "hash": "4a13d02c6839d39988a711bbb1394bfd9339964e0d499da583a7f9a5413b1821"
      }
    }
  },
  "nbformat": 4,
  "nbformat_minor": 0
}
